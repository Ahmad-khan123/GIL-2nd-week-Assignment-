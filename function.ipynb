{
 "cells": [
  {
   "cell_type": "code",
   "execution_count": 21,
   "id": "d1efd769",
   "metadata": {},
   "outputs": [
    {
     "name": "stdout",
     "output_type": "stream",
     "text": [
      "sum of number: 19\n"
     ]
    }
   ],
   "source": [
    "def sum_of_numbers(numbers):\n",
    "      return sum(numbers)\n",
    "simple_list = [8, 2, 3, -1, 7] #simple list\n",
    "\n",
    "result = sum_of_numbers(simple_list)#calculat the sum numbers\n",
    "\n",
    "print(\"sum of number:\", result)"
   ]
  },
  {
   "cell_type": "code",
   "execution_count": 20,
   "id": "9a70b50f",
   "metadata": {},
   "outputs": [
    {
     "ename": "IndentationError",
     "evalue": "unexpected indent (3069663815.py, line 3)",
     "output_type": "error",
     "traceback": [
      "\u001b[1;36m  Cell \u001b[1;32mIn[20], line 3\u001b[1;36m\u001b[0m\n\u001b[1;33m    for num in numbers:\u001b[0m\n\u001b[1;37m    ^\u001b[0m\n\u001b[1;31mIndentationError\u001b[0m\u001b[1;31m:\u001b[0m unexpected indent\n"
     ]
    }
   ],
   "source": []
  },
  {
   "cell_type": "code",
   "execution_count": 19,
   "id": "8888db30",
   "metadata": {},
   "outputs": [
    {
     "name": "stdout",
     "output_type": "stream",
     "text": [
      "Product of numbers: -336\n"
     ]
    }
   ],
   "source": [
    "def multiply_numbers(numbers):\n",
    "    result = 1\n",
    "    for num in numbers:\n",
    "        result *=num\n",
    "    return result\n",
    "\n",
    "# Sample list\n",
    "sample_list = [8, 2, 3, -1, 7]\n",
    "\n",
    "# Calculate the product\n",
    "result = multiply_numbers(sample_list)\n",
    "\n",
    "# Display the result\n",
    "print(\"Product of numbers:\", result)"
   ]
  },
  {
   "cell_type": "code",
   "execution_count": null,
   "id": "cdeb8a20",
   "metadata": {},
   "outputs": [],
   "source": []
  }
 ],
 "metadata": {
  "kernelspec": {
   "display_name": "Python 3 (ipykernel)",
   "language": "python",
   "name": "python3"
  },
  "language_info": {
   "codemirror_mode": {
    "name": "ipython",
    "version": 3
   },
   "file_extension": ".py",
   "mimetype": "text/x-python",
   "name": "python",
   "nbconvert_exporter": "python",
   "pygments_lexer": "ipython3",
   "version": "3.11.5"
  }
 },
 "nbformat": 4,
 "nbformat_minor": 5
}
