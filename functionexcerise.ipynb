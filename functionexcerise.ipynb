{
 "cells": [
  {
   "cell_type": "code",
   "execution_count": 7,
   "id": "5e60d0de",
   "metadata": {},
   "outputs": [
    {
     "name": "stdout",
     "output_type": "stream",
     "text": [
      "Ahamd 23\n"
     ]
    }
   ],
   "source": [
    "#Exercise 1: Create a function in Python\n",
    "def demo(name,age):\n",
    "    print(name,age)\n",
    "demo(\"Ahamd\",23)"
   ]
  },
  {
   "cell_type": "code",
   "execution_count": 15,
   "id": "b85bd3f2",
   "metadata": {},
   "outputs": [
    {
     "name": "stdout",
     "output_type": "stream",
     "text": [
      "the sum is : 8\n"
     ]
    }
   ],
   "source": [
    "def add_number(a,b):\n",
    "    sum = a + b\n",
    "    return sum\n",
    "result = add_number(5,3)\n",
    "print(\"the sum is :\", result)\n"
   ]
  },
  {
   "cell_type": "code",
   "execution_count": 20,
   "id": "1272bcc0",
   "metadata": {},
   "outputs": [
    {
     "name": "stdout",
     "output_type": "stream",
     "text": [
      "15\n",
      "25\n",
      "45\n"
     ]
    }
   ],
   "source": [
    "def my_function(x):\n",
    "    return 5*x\n",
    "print(my_function(3))\n",
    "print(my_function(5))\n",
    "print(my_function(9))\n"
   ]
  },
  {
   "cell_type": "code",
   "execution_count": 21,
   "id": "a3fec051",
   "metadata": {},
   "outputs": [
    {
     "name": "stdout",
     "output_type": "stream",
     "text": [
      "hello word\n",
      "hello Ahmad Khan\n"
     ]
    }
   ],
   "source": [
    "# Function with Default Parameter\n",
    "def great_persion(name=\"word\"):\n",
    "    print(\"hello\",name)\n",
    "great_persion()\n",
    "\n",
    "great_persion(\"Ahmad Khan\")"
   ]
  },
  {
   "cell_type": "code",
   "execution_count": 31,
   "id": "04e7178b",
   "metadata": {},
   "outputs": [
    {
     "name": "stdout",
     "output_type": "stream",
     "text": [
      "7 is odd\n"
     ]
    }
   ],
   "source": [
    "def check_even_odd(num):\n",
    "    if num % 2 ==0:\n",
    "        print(num, \"is even\")\n",
    "    else:\n",
    "        print(num, \"is odd\")\n",
    "check_even_odd(7)"
   ]
  },
  {
   "cell_type": "code",
   "execution_count": 32,
   "id": "6e31ddf1",
   "metadata": {},
   "outputs": [
    {
     "name": "stdout",
     "output_type": "stream",
     "text": [
      "Numbers of the words : 5\n"
     ]
    }
   ],
   "source": [
    "def count_word(string):\n",
    "    words =string.split()\n",
    "    return len(words)\n",
    "sentence =\"python is popular programing language \"\n",
    "word_count= count_word(sentence)\n",
    "print(\"Numbers of the words :\",word_count)"
   ]
  },
  {
   "cell_type": "code",
   "execution_count": null,
   "id": "7a45e1ff",
   "metadata": {},
   "outputs": [],
   "source": []
  },
  {
   "cell_type": "code",
   "execution_count": null,
   "id": "2ea52531",
   "metadata": {},
   "outputs": [],
   "source": []
  },
  {
   "cell_type": "code",
   "execution_count": null,
   "id": "518e6e67",
   "metadata": {},
   "outputs": [],
   "source": []
  }
 ],
 "metadata": {
  "kernelspec": {
   "display_name": "Python 3 (ipykernel)",
   "language": "python",
   "name": "python3"
  },
  "language_info": {
   "codemirror_mode": {
    "name": "ipython",
    "version": 3
   },
   "file_extension": ".py",
   "mimetype": "text/x-python",
   "name": "python",
   "nbconvert_exporter": "python",
   "pygments_lexer": "ipython3",
   "version": "3.11.5"
  }
 },
 "nbformat": 4,
 "nbformat_minor": 5
}
