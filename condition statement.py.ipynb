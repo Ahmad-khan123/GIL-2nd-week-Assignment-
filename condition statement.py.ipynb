{
 "cells": [
  {
   "cell_type": "code",
   "execution_count": 3,
   "id": "a1ca1ad0",
   "metadata": {},
   "outputs": [
    {
     "name": "stdout",
     "output_type": "stream",
     "text": [
      "Enter the value 22\n",
      "22 Even Number \n"
     ]
    }
   ],
   "source": [
    "a=int(input(\"Enter the value \"))\n",
    "if a%2==0:\n",
    "   print(a,\"Even Number \")\n",
    "else:\n",
    "     print(a,\"Odd Number\")"
   ]
  },
  {
   "cell_type": "code",
   "execution_count": 39,
   "id": "7111fb71",
   "metadata": {},
   "outputs": [
    {
     "name": "stdout",
     "output_type": "stream",
     "text": [
      "enter the value4\n",
      "you are young\n"
     ]
    }
   ],
   "source": [
    "a=int(input(\"enter the value\"))\n",
    "if a>=50 & :\n",
    "     print(\"you are old\")\n",
    "else :\n",
    "    print(\"you are young\")"
   ]
  },
  {
   "cell_type": "code",
   "execution_count": 34,
   "id": "f8ab2df4",
   "metadata": {},
   "outputs": [
    {
     "name": "stdout",
     "output_type": "stream",
     "text": [
      "enter the value33\n",
      "3rd DIv\n"
     ]
    }
   ],
   "source": [
    "per=int(input(\"enter the value\"))\n",
    "if per>=70:\n",
    "  print(\"1st Div\")\n",
    "elif per>=48:\n",
    "     print(\"2nd Div\")\n",
    "elif per>=40:\n",
    "    print(\"3rd DIv\")\n",
    "else:\n",
    "    print(\" Faill \")"
   ]
  },
  {
   "cell_type": "code",
   "execution_count": null,
   "id": "8e8a170e",
   "metadata": {},
   "outputs": [],
   "source": []
  },
  {
   "cell_type": "code",
   "execution_count": null,
   "id": "c3a3029a",
   "metadata": {},
   "outputs": [],
   "source": []
  },
  {
   "cell_type": "code",
   "execution_count": null,
   "id": "fb9bdbfa",
   "metadata": {},
   "outputs": [],
   "source": []
  },
  {
   "cell_type": "code",
   "execution_count": null,
   "id": "577d6105",
   "metadata": {},
   "outputs": [],
   "source": []
  }
 ],
 "metadata": {
  "kernelspec": {
   "display_name": "Python 3 (ipykernel)",
   "language": "python",
   "name": "python3"
  },
  "language_info": {
   "codemirror_mode": {
    "name": "ipython",
    "version": 3
   },
   "file_extension": ".py",
   "mimetype": "text/x-python",
   "name": "python",
   "nbconvert_exporter": "python",
   "pygments_lexer": "ipython3",
   "version": "3.11.5"
  }
 },
 "nbformat": 4,
 "nbformat_minor": 5
}
